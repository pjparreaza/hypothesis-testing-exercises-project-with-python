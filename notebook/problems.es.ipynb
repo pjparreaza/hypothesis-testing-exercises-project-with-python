{
 "cells": [
  {
   "cell_type": "markdown",
   "id": "d9d036c6",
   "metadata": {},
   "source": [
    "# Problemas de prueba de hipótesis"
   ]
  },
  {
   "cell_type": "markdown",
   "id": "d157c4db",
   "metadata": {},
   "source": [
    "## Ejercicio 1\n",
    "\n",
    "Usted es un nutricionista que investiga dos tipos diferentes de dietas para ver si existe una diferencia significativa en la pérdida de peso después de un mes. Eliges dos grupos aleatorios de personas; un grupo sigue la primera dieta y el otro sigue la segunda. Al final del mes, se registra la pérdida de peso (en kg) de cada persona:\n",
    "\n",
    "| Diet 1 | Diet 2 |\n",
    "|:-------|:-------|\n",
    "| 2.0 | 3.0 |\n",
    "| 2.5 | 3.2 |\n",
    "| 3.0 | 3.1 |\n",
    "| 2.8 | 2.9 |\n",
    "| 2.3 | 2.8 |\n",
    "| 2.7 | 3.0 |\n",
    "| 2.5 | 3.2 |\n",
    "\n",
    "Con estos datos se busca responder a la siguiente pregunta: ¿Existe una diferencia significativa en la pérdida de peso promedio entre las personas que siguieron la primera dieta y las que siguieron la segunda dieta?\n",
    "\n",
    "Para sacar conclusiones, siga los siguientes puntos:\n",
    "\n",
    "-Enunciar la hipótesis: hipótesis nula y alternativa.\n",
    "-Realizar la prueba para comprobar la hipótesis. Puede utilizar la prueba t de Student.\n",
    "-Analizar las conclusiones."
   ]
  },
  {
   "cell_type": "markdown",
   "id": "b52cd1a0",
   "metadata": {},
   "source": [
    "#### 1. Enunciemos las hipotesis\n",
    "\n",
    "- **Hipotesis Nula** ($H₀$): No hay diferencia en la pérdida de peso promedio entre las dos dietas.\n",
    "- **Hipotesis Alternativa** ($H₁$): Hay diferencia en la pérdida de peso promedio entre las dos dietas.\n",
    "\n",
    "\n",
    "Dado que las observaciones son una cantidad menor a 30, usaremos la prueba de medias usando el estadistico t de Students"
   ]
  },
  {
   "cell_type": "markdown",
   "id": "a192e91a",
   "metadata": {},
   "source": [
    "#### 2. Aplicación de la prueba t de Students"
   ]
  },
  {
   "cell_type": "code",
   "execution_count": 1,
   "id": "8e0f3cf0",
   "metadata": {},
   "outputs": [
    {
     "name": "stdout",
     "output_type": "stream",
     "text": [
      "Estadistico t: -3.5383407969933938\n",
      "p-valor: 0.004083270191713912\n"
     ]
    }
   ],
   "source": [
    "import scipy.stats as stats\n",
    "\n",
    "diet1 = [2.0, 2.5, 3.0, 2.8, 2.3, 2.7, 2.5]\n",
    "diet2 = [3.0, 3.2, 3.1, 2.9, 2.8, 3.0, 3.2]\n",
    "\n",
    "# Prueba t de Students\n",
    "Estadistico_t, p_valor = stats.ttest_ind(diet1, diet2)\n",
    "\n",
    "print(f\"Estadistico t: {Estadistico_t}\")\n",
    "print(f\"p-valor: {p_valor}\")"
   ]
  },
  {
   "cell_type": "markdown",
   "id": "fd08d430",
   "metadata": {},
   "source": [
    "#### 3. Interpretación de los resultados\n",
    "\n",
    "Debido a que el resultado del p-valor es menor que el nivel de significancia elegido del 5% (0,05) (significancia habitual), no podemos aceptar la hipótesis nula y debemos concluir que existe una diferencia significativa en la pérdida de peso entre las dos dietas.\n",
    "\n",
    "\n",
    "Señalamos que, si el resultado de este ejercicio, el p-valor hubiera sido mayor al nivel de significancia elegido del 5%, debemos aceptar la hipótesis nula, lpor lo tanto concluir que no existe una diferencia significativa en la pérdida de peso entre las dos dietas."
   ]
  },
  {
   "cell_type": "markdown",
   "id": "f432e18e",
   "metadata": {},
   "source": [
    "## ANOVA\n",
    "\n",
    "**ANOVA** (*Analysis of Variance - Análisis de variación*) Es una técnica estadística utilizada para comparar las medidas de dos o más grupos. La idea detrás de ANOVA es descomponer la variabilidad total de los datos en dos componentes: variabilidad entre grupos y variabilidad dentro de los grupos:\n",
    "\n",
    "- **Variabilidad entre grupos**: Esta variabilidad se refiere a las diferencias entre las medias del grupo. Si esta variabilidad es considerablemente mayor que la variabilidad dentro del grupo, podría ser una indicación de que al menos una de las medias del grupo es diferente.\n",
    "- **Variabilidad dentro del grupo**: Esta variabilidad se refiere a la dispersión de los datos dentro de cada grupo. Si todos los grupos tienen una variabilidad similar, entonces cualquier diferencia notable en las medias de los grupos podría considerarse significativa.\n",
    "\n",
    "Las hipótesis en ANOVA suelen incluir:\n",
    "\n",
    "- **Hipótesis nula** ($H₀$): Las medias de todos los grupos son iguales.\n",
    "- **Hipótesis alternativa** ($H₁$): Al menos una de las medias del grupo es diferente.\n",
    "\n",
    "Si el resultado de la prueba ANOVA es significativo (por ejemplo, un valor p inferior a un umbral como 0,05), esto sugiere que al menos la media de un grupo es diferente."
   ]
  },
  {
   "cell_type": "markdown",
   "id": "fc5f3721",
   "metadata": {},
   "source": [
    "## Ejercicio 2\n",
    "\n",
    "Un agricultor decide probar tres tipos diferentes de fertilizantes para determinar si alguno es superior en términos de producción de maíz. El agricultor planta maíz en 15 parcelas idénticas y utiliza los tres fertilizantes (5 parcelas para cada tipo). Al final de la temporada mide el rendimiento de maíz (en kg) de cada parcela, con el siguiente resultado:\n",
    "\n",
    "| Fertilizante 1 | Fertilizante 2 | Fertilizante 3 |\n",
    "|:-------------|:-------------|:-------------|\n",
    "| 20 | 22 | 24 |\n",
    "| 21 | 21 | 23 |\n",
    "| 20 | 23 | 22 |\n",
    "| 19 | 22 | 23 |\n",
    "| 20 | 21 | 24 |\n",
    "\n",
    "Con estos datos busca responder la siguiente pregunta: ¿Existe una diferencia significativa en el rendimiento promedio del maíz entre los tres tipos de fertilizantes?\n",
    "\n",
    "Para ayudarte, sigue los siguientes puntos:\n",
    "\n",
    "-Enunciar la hipótesis: hipótesis nula y alternativa.\n",
    "-Realizar la prueba ANOVA.\n",
    "-Analizar las conclusiones.\n",
    "-Si un fertilizante es mejor que otro, ¿cómo podemos saberlo?"
   ]
  },
  {
   "cell_type": "markdown",
   "id": "4d6557ad",
   "metadata": {},
   "source": [
    "#### 1. State the hypotheses\n",
    "\n",
    "- **Hipótesis Nula** ($H₀$): Los promedios de rendimiento de maíz de los tres fertilizantes son iguales.\n",
    "- **Hipótesis Alternativa** ($H₁$): Al menos uno de los promedios de rendimiento de maíz de los fertilizantes es diferente."
   ]
  },
  {
   "cell_type": "markdown",
   "id": "fcbf8a29",
   "metadata": {},
   "source": [
    "#### 2. Aplicación de la prueba ANOVA"
   ]
  },
  {
   "cell_type": "code",
   "execution_count": 3,
   "id": "eecad0ca",
   "metadata": {},
   "outputs": [
    {
     "name": "stdout",
     "output_type": "stream",
     "text": [
      "Estadistico F 20.315789473684188\n",
      "p-valor: 0.00014047824793190475\n"
     ]
    }
   ],
   "source": [
    "import scipy.stats as stats\n",
    "\n",
    "fertilizante1 = [20, 21, 20, 19, 20]\n",
    "fertilizante2 = [22, 21, 23, 22, 21]\n",
    "fertilizante3 = [24, 23, 22, 23, 24]\n",
    "\n",
    "# Prueba ANOVA\n",
    "Estadistico_f, p_valor = stats.f_oneway(fertilizante1, fertilizante2, fertilizante3)\n",
    "\n",
    "print(f\"Estadistico F {Estadistico_f}\")\n",
    "print(f\"p-valor: {p_valor}\")"
   ]
  },
  {
   "cell_type": "markdown",
   "id": "58cab7cb",
   "metadata": {},
   "source": [
    "#### 3. Interpretación de los resultados\n",
    "\n",
    "Debido a que el resultado del p-valor es menor que el nivel de significancia elegido del 5% (0,05) (significancia habitual), no podemos aceptar la hipótesis nula y debemos concluir que existe una diferencia significativa en el rendimiento medio de maíz entre al menos dos de los fertilizantes."
   ]
  },
  {
   "cell_type": "markdown",
   "id": "b69f4997",
   "metadata": {},
   "source": [
    "#### 4. Determinando el mejor fertilizante\n",
    "\n",
    "El ejecutar la prueba ANOVA, se aprecia que existen diferencias significativas entre los grupos. Por ende, debemos identificar qué fertilizante es mejor, para ello realizaremos la prueba de Tukey. \n",
    "\n",
    "La prueba de Tukey es una de las denominadas pruebas de post-hoc, estas son un procedimiento estadístico que se realiza después de que se ha rechazado la hipótesis nula en un análisis de varianza (ANOVA) (el cual fue nuestro caso). El objetivo de este tipo de pruebas es encontrar patrones y resultados que no eran el objetivo principal del estudio\n",
    "\n",
    "\n",
    "Para nuestro ejercicio el planteamineto seria:\n",
    "\n",
    "1. Si el primer fertilizante es significativamente diferente del segundo fertilizante, pero no existe diferencia significativa entre el primero y el tercero, y tampoco diferencia significativa entre el segundo y el tercero, podríamos concluir que el primer fertilizante es el mejor o el peor, dependiendo de la dirección de la diferencia.\n",
    "\n",
    "2. Si todos los fertilizantes son significativamente diferentes entre sí, compararíamos las medias para determinar cuál es el mejor.\n",
    "\n",
    "La rutina en Python para ello seria:"
   ]
  },
  {
   "cell_type": "code",
   "execution_count": 4,
   "id": "aef2b925",
   "metadata": {},
   "outputs": [
    {
     "name": "stdout",
     "output_type": "stream",
     "text": [
      "Multiple Comparison of Means - Tukey HSD, FWER=0.05\n",
      "==================================================\n",
      "group1 group2 meandiff p-adj  lower  upper  reject\n",
      "--------------------------------------------------\n",
      "    F1     F2      1.8 0.0099 0.4572 3.1428   True\n",
      "    F1     F3      3.2 0.0001 1.8572 4.5428   True\n",
      "    F2     F3      1.4 0.0409 0.0572 2.7428   True\n",
      "--------------------------------------------------\n"
     ]
    }
   ],
   "source": [
    "import numpy as np\n",
    "from statsmodels.stats.multicomp import pairwise_tukeyhsd\n",
    "\n",
    "entradas = np.concatenate([fertilizante1, fertilizante2, fertilizante3])\n",
    "etiquetas = [\"F1\"] * 5 + [\"F2\"] * 5 + [\"F3\"] * 5\n",
    "\n",
    "# Prueba de Tukey\n",
    "resumen = pairwise_tukeyhsd(entradas, etiquetas, alpha = 0.05) # el alpha representa el nivel de significancia\n",
    "print(resumen)"
   ]
  },
  {
   "cell_type": "markdown",
   "id": "138f3ce3",
   "metadata": {},
   "source": [
    "#### Interpretación de los resultados. \n",
    "\n",
    "Si al vizualizar la columna de nombre `reject`, el valor del campo es `True` significa que existe una diferencia estadísticamente significativa entre los dos grupos evaluados. \n",
    "\n",
    "Como si existe una diferencia significativa, debemos observar la columna que refleja la diferencia media de los grupos observados, esto es ver la columna de nombre `meandiff` para ver cuánto difieren las medias de los dos grupos. Si el valor es positivo, indica la variable ubicada en la columna de nombre `group2` tiene una media mayor que la variable unicada en la columna de nombre`group1`, esto es el: la media del segundo grupo es superior a la media del primer grupo. (Si el resultado es negativo, la interpretación es al revés de la referida )\n",
    "\n",
    "A partir de esta información, podemos indicar que:\n",
    " * Todos los fertilizantes difieren significativamente entre sí. \n",
    " * El tercer fertilizante tiene el promedio más alto, seguido por el segundo y terminando con el primero. \n",
    " \n",
    "Por lo tanto, *el tercer fertilizante sería el mejor*."
   ]
  }
 ],
 "metadata": {
  "kernelspec": {
   "display_name": "Python 3",
   "language": "python",
   "name": "python3"
  },
  "language_info": {
   "codemirror_mode": {
    "name": "ipython",
    "version": 3
   },
   "file_extension": ".py",
   "mimetype": "text/x-python",
   "name": "python",
   "nbconvert_exporter": "python",
   "pygments_lexer": "ipython3",
   "version": "3.11.4"
  }
 },
 "nbformat": 4,
 "nbformat_minor": 5
}
